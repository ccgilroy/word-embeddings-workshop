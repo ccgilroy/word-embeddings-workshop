{
 "cells": [
  {
   "cell_type": "markdown",
   "metadata": {},
   "source": [
    "# Word Embeddings Workshop\n",
    "\n",
    "March 19, 2021\n",
    "\n",
    "Instructor: Connor Gilroy, Department of Sociology, University of Washington  \n",
    "TA: Nga Than, Sociology program, CUNY Graduate Center"
   ]
  },
  {
   "cell_type": "markdown",
   "metadata": {},
   "source": [
    "## Introduction\n",
    "\n",
    "The goal of this workshop is to give you an intuitive and practical introduction to what word embeddings are and what they can be used for in the social sciences.\n",
    "\n",
    "You can find a short introductory slide deck [here](https://docs.google.com/presentation/d/1V4SaADerFMph9wB7pES76vYUWhIzvQ_LMpSyAIB6f_o/edit?usp=sharing)."
   ]
  },
  {
   "cell_type": "markdown",
   "metadata": {},
   "source": [
    "## Packages used\n",
    "\n",
    "This workshop primarily teaches and uses the **gensim** package. The main corpus (the 20 Newsgroups data set) comes from scikit-learn. \n",
    "\n",
    "An optional part of the tutorial also uses the *whatlies* package. For the exercises, you may find it helpful to load some common Python data science packages as well, if you have those installed in your environment."
   ]
  },
  {
   "cell_type": "code",
   "execution_count": 1,
   "metadata": {},
   "outputs": [],
   "source": [
    "import gensim\n",
    "import sklearn\n",
    "\n",
    "# import numpy as np\n",
    "# import pandas as pd\n",
    "# import matplotlib.pyplot as plt\n",
    "# import seaborn as sns\n",
    "# import altair as alt"
   ]
  },
  {
   "cell_type": "markdown",
   "metadata": {},
   "source": [
    "## 1. Using a pretrained model (GloVe)\n",
    "\n",
    "Things to know about a pretrained model: \n",
    "\n",
    "- What's the overall modeling approach?\n",
    "- What vector size?\n",
    "- What vocabulary size?\n",
    "- What other parameters might affect substantive results? \n",
    "- What data was it trained on?\n",
    "\n",
    "Some of those things will be well-documented or obvious, some won't be.\n",
    "\n",
    "The GloVe models are originally documented [on a project page](https://nlp.stanford.edu/projects/glove/) from the Stanford NLP Group, but the gensim package also stores data for these and other models [in the gensim-data repository](https://github.com/RaRe-Technologies/gensim-data). We'll download and load a small pretrained model from the latter; click the link to read more about it. \n",
    "\n",
    "This model is around 66 MB. It's relatively small because each word is represented by a vector of only 50 numbers. Larger vectors (150-300 dimensions) are more common in practice."
   ]
  },
  {
   "cell_type": "code",
   "execution_count": 2,
   "metadata": {},
   "outputs": [],
   "source": [
    "import gensim.downloader as api\n",
    "glove_embeddings = api.load('glove-wiki-gigaword-50')"
   ]
  },
  {
   "cell_type": "markdown",
   "metadata": {},
   "source": [
    "We can confirm that these vectors do indeed have 50 dimensions:"
   ]
  },
  {
   "cell_type": "code",
   "execution_count": 3,
   "metadata": {},
   "outputs": [
    {
     "data": {
      "text/plain": [
       "50"
      ]
     },
     "execution_count": 3,
     "metadata": {},
     "output_type": "execute_result"
    }
   ],
   "source": [
    "glove_embeddings.vector_size"
   ]
  },
  {
   "cell_type": "markdown",
   "metadata": {},
   "source": [
    "How many words are in the vocabulary?"
   ]
  },
  {
   "cell_type": "code",
   "execution_count": 4,
   "metadata": {},
   "outputs": [
    {
     "data": {
      "text/plain": [
       "400000"
      ]
     },
     "execution_count": 4,
     "metadata": {},
     "output_type": "execute_result"
    }
   ],
   "source": [
    "len(glove_embeddings.vocab)"
   ]
  },
  {
   "cell_type": "markdown",
   "metadata": {},
   "source": [
    "This is a 400,000 x 50 matrix, which can be accessed through `glove_embeddings.vectors`: "
   ]
  },
  {
   "cell_type": "code",
   "execution_count": 5,
   "metadata": {},
   "outputs": [
    {
     "data": {
      "text/plain": [
       "(400000, 50)"
      ]
     },
     "execution_count": 5,
     "metadata": {},
     "output_type": "execute_result"
    }
   ],
   "source": [
    "glove_embeddings.vectors.shape"
   ]
  },
  {
   "cell_type": "markdown",
   "metadata": {},
   "source": [
    "If a word is in the vocabulary, you can extract its embedding from the model like this:"
   ]
  },
  {
   "cell_type": "code",
   "execution_count": 6,
   "metadata": {},
   "outputs": [
    {
     "data": {
      "text/plain": [
       "array([-0.32823  ,  0.60464  , -1.4341   , -0.69483  ,  0.37222  ,\n",
       "        0.27362  , -0.20724  , -0.56052  ,  0.18415  , -0.37874  ,\n",
       "        0.74674  ,  0.42706  ,  0.58073  ,  0.27155  , -0.72668  ,\n",
       "       -0.069103 ,  0.44206  ,  0.3201   , -0.0098668,  0.37716  ,\n",
       "        0.46938  ,  0.50435  , -0.37607  ,  0.22032  ,  0.13913  ,\n",
       "       -1.2937   , -1.3741   , -1.1188   , -0.61808  ,  0.62293  ,\n",
       "        2.81     , -0.1561   , -0.19444  , -1.5079   , -1.2498   ,\n",
       "       -0.22614  , -0.65483  , -0.085504 ,  0.67726  , -0.021338 ,\n",
       "       -0.18614  , -1.0214   ,  0.47834  ,  0.58785  ,  0.26813  ,\n",
       "        0.86638  , -0.54169  , -0.32731  ,  0.032503 , -0.24343  ],\n",
       "      dtype=float32)"
      ]
     },
     "execution_count": 6,
     "metadata": {},
     "output_type": "execute_result"
    }
   ],
   "source": [
    "glove_embeddings[\"society\"]"
   ]
  },
  {
   "cell_type": "markdown",
   "metadata": {},
   "source": [
    "Differerent word, different vector: "
   ]
  },
  {
   "cell_type": "code",
   "execution_count": 7,
   "metadata": {},
   "outputs": [
    {
     "data": {
      "text/plain": [
       "array([-0.11453 ,  0.73146 ,  0.11784 ,  0.36523 ,  0.98771 ,  0.80546 ,\n",
       "        0.61489 , -0.051392,  0.60681 , -0.24692 ,  0.025087, -0.27323 ,\n",
       "        0.25305 ,  0.042868,  0.33807 , -0.54849 ,  0.38897 , -0.13563 ,\n",
       "        0.069399, -1.2723  ,  0.27797 , -0.43719 ,  0.22549 ,  0.28142 ,\n",
       "        0.06787 , -0.68432 , -0.73477 , -1.2587  , -0.23347 , -0.25551 ,\n",
       "        3.2248  ,  0.71511 ,  0.028063, -0.80542 , -0.23383 ,  0.034666,\n",
       "        0.14269 ,  0.47143 , -0.70159 , -0.27487 ,  0.10003 , -1.0086  ,\n",
       "        0.83195 ,  1.4715  , -0.10354 , -0.50154 , -0.25713 ,  0.15875 ,\n",
       "       -0.24113 ,  0.028179], dtype=float32)"
      ]
     },
     "execution_count": 7,
     "metadata": {},
     "output_type": "execute_result"
    }
   ],
   "source": [
    "glove_embeddings[\"individual\"]"
   ]
  },
  {
   "cell_type": "markdown",
   "metadata": {},
   "source": [
    "0.555 corresponds to 0.208, 0.493 corresponds to 0.895, and so on. (What do those individual positions mean? Not much on their own!)\n",
    "\n",
    "This is what unlocks the key innovation of word embeddings: we can calculate the similarity or distance between two words using their vector representations. This is usually done with a metric called **cosine similarity**, which ranges from -1 to 1 (=perfectly similar)."
   ]
  },
  {
   "cell_type": "code",
   "execution_count": 8,
   "metadata": {},
   "outputs": [
    {
     "data": {
      "text/plain": [
       "0.57124346"
      ]
     },
     "execution_count": 8,
     "metadata": {},
     "output_type": "execute_result"
    }
   ],
   "source": [
    "glove_embeddings.similarity(\"society\", \"individual\")"
   ]
  },
  {
   "cell_type": "markdown",
   "metadata": {},
   "source": [
    "Of course, a word is exactly similar to itself: "
   ]
  },
  {
   "cell_type": "code",
   "execution_count": 9,
   "metadata": {},
   "outputs": [
    {
     "data": {
      "text/plain": [
       "1.0"
      ]
     },
     "execution_count": 9,
     "metadata": {},
     "output_type": "execute_result"
    }
   ],
   "source": [
    "glove_embeddings.similarity(\"society\", \"society\")"
   ]
  },
  {
   "cell_type": "code",
   "execution_count": 10,
   "metadata": {},
   "outputs": [],
   "source": [
    "# try out calculating the similarities between a few other pairs of words here!"
   ]
  },
  {
   "cell_type": "markdown",
   "metadata": {},
   "source": [
    "(Technical aside: cosine similarity is the dot product of two vectors, divided by the L2-norm for each vector.)"
   ]
  },
  {
   "cell_type": "code",
   "execution_count": 11,
   "metadata": {},
   "outputs": [],
   "source": [
    "from numpy import dot\n",
    "from numpy.linalg import norm"
   ]
  },
  {
   "cell_type": "code",
   "execution_count": 12,
   "metadata": {},
   "outputs": [
    {
     "data": {
      "text/plain": [
       "0.5712435"
      ]
     },
     "execution_count": 12,
     "metadata": {},
     "output_type": "execute_result"
    }
   ],
   "source": [
    "(dot(glove_embeddings[\"society\"], glove_embeddings[\"individual\"]) / \n",
    "    (norm(glove_embeddings[\"society\"], ord=2) * norm(glove_embeddings[\"individual\"], ord=2)))"
   ]
  },
  {
   "cell_type": "markdown",
   "metadata": {},
   "source": [
    "To understand how a model respresents a particular word, we can look at which words are the most similar to it according to that model.\n",
    "\n",
    "This is the foundation for making substantive claims about meaning: for instance, what a word means in a given set of documents, or how the meaning of a word has changed over time. \n",
    "\n",
    "Here are the 10 most similar words to \"society\" in the GloVe vocabulary: "
   ]
  },
  {
   "cell_type": "code",
   "execution_count": 13,
   "metadata": {},
   "outputs": [
    {
     "data": {
      "text/plain": [
       "[('societies', 0.862210750579834),\n",
       " ('institution', 0.7940563559532166),\n",
       " ('culture', 0.7808329463005066),\n",
       " ('social', 0.7668281197547913),\n",
       " ('established', 0.7649271488189697),\n",
       " ('cultural', 0.7567238211631775),\n",
       " ('community', 0.7481761574745178),\n",
       " ('science', 0.7377926707267761),\n",
       " ('establishment', 0.7374358177185059),\n",
       " ('profession', 0.735918402671814)]"
      ]
     },
     "execution_count": 13,
     "metadata": {},
     "output_type": "execute_result"
    }
   ],
   "source": [
    "glove_embeddings.most_similar(\"society\", topn=10)"
   ]
  },
  {
   "cell_type": "markdown",
   "metadata": {},
   "source": [
    "And the 10 most similar words to \"individual\":"
   ]
  },
  {
   "cell_type": "code",
   "execution_count": 14,
   "metadata": {},
   "outputs": [
    {
     "data": {
      "text/plain": [
       "[('equal', 0.8033003211021423),\n",
       " ('number', 0.7950321435928345),\n",
       " ('represent', 0.7948423624038696),\n",
       " ('each', 0.7856720089912415),\n",
       " ('regardless', 0.7753193378448486),\n",
       " ('certain', 0.7704189419746399),\n",
       " ('placing', 0.766760528087616),\n",
       " ('individuals', 0.7637471556663513),\n",
       " ('these', 0.7541685700416565),\n",
       " ('different', 0.7537710666656494)]"
      ]
     },
     "execution_count": 14,
     "metadata": {},
     "output_type": "execute_result"
    }
   ],
   "source": [
    "glove_embeddings.most_similar(\"individual\", topn=10)"
   ]
  },
  {
   "cell_type": "markdown",
   "metadata": {},
   "source": [
    "Relations of similarity are the basic operation, but we're not limited to the individual word vectors we started with. We can do algebra on those vectors to build up new vectors that represent more complex meanings. For instance, we can take the *difference* between two vectors, in order to represent a binary opposition between them.  \n",
    "\n",
    "Researchers build on this basic idea to create more robust vectors representing concepts that can be thought of in a binary way. Kozlowski et al 2019, for example, represent multiple dimensions of social class by averaging different pairs of antonyms. They then show how the associations between these dimensions change over the course of the 20th century.\n",
    "\n",
    "The next example constructs an opposition between \"society\" and \"individual\" -- this will give us the words that are the closest to the \"society\" end of that dimension, or the \"individual\" end.\n",
    "\n",
    "(You might be able to tell that these vectors were trained on Wikipedia entries, because the vocabulary includes many rare words -- we might get more interesting and meaningful results if we filtered the 400,000-word vocabulary first.)"
   ]
  },
  {
   "cell_type": "code",
   "execution_count": 15,
   "metadata": {},
   "outputs": [
    {
     "data": {
      "text/plain": [
       "[('mattachine', 0.6032095551490784),\n",
       " ('anthroposophical', 0.5824963450431824),\n",
       " ('smolny', 0.5740677118301392),\n",
       " ('polytechnical', 0.5710374116897583),\n",
       " ('abyssinian', 0.5677530765533447),\n",
       " ('pompidou', 0.560329258441925),\n",
       " ('post-industrial', 0.5557958483695984),\n",
       " ('plaquemine', 0.5454120635986328),\n",
       " ('presbyterian', 0.5327621102333069),\n",
       " ('hereward', 0.5242972373962402)]"
      ]
     },
     "execution_count": 15,
     "metadata": {},
     "output_type": "execute_result"
    }
   ],
   "source": [
    "glove_embeddings.most_similar(positive=[\"society\"], negative=[\"individual\"])"
   ]
  },
  {
   "cell_type": "code",
   "execution_count": 16,
   "metadata": {},
   "outputs": [
    {
     "data": {
      "text/plain": [
       "[('100-200', 0.6291513442993164),\n",
       " ('apiece', 0.6258172988891602),\n",
       " ('lengths', 0.6198765635490417),\n",
       " ('finishers', 0.6118336319923401),\n",
       " ('contendership', 0.6085329055786133),\n",
       " ('onlytest', 0.6035232543945312),\n",
       " ('measly', 0.6017791032791138),\n",
       " ('6s', 0.6004780530929565),\n",
       " ('2,195', 0.5962419509887695),\n",
       " ('winnings', 0.5922033190727234)]"
      ]
     },
     "execution_count": 16,
     "metadata": {},
     "output_type": "execute_result"
    }
   ],
   "source": [
    "glove_embeddings.most_similar(positive=[\"individual\"], negative=[\"society\"])"
   ]
  },
  {
   "cell_type": "markdown",
   "metadata": {},
   "source": [
    "What's happening here, behind the scenes, is that one vector is being subtracted from the other. \n",
    "\n",
    "This creates a new vector, like this:"
   ]
  },
  {
   "cell_type": "code",
   "execution_count": 17,
   "metadata": {},
   "outputs": [
    {
     "data": {
      "text/plain": [
       "array([-0.2137    , -0.12681997, -1.5519401 , -1.06006   , -0.61548996,\n",
       "       -0.53183997, -0.82212996, -0.509128  , -0.42266   , -0.13182001,\n",
       "        0.721653  ,  0.70028996,  0.32768002,  0.228682  , -1.06475   ,\n",
       "        0.479387  ,  0.05309001,  0.45573002, -0.0792658 ,  1.6494601 ,\n",
       "        0.19141   ,  0.94154   , -0.60156   , -0.06109999,  0.07126   ,\n",
       "       -0.60938   , -0.63932997,  0.13989997, -0.38461003,  0.87844   ,\n",
       "       -0.41480017, -0.87121   , -0.222503  , -0.70248   , -1.01597   ,\n",
       "       -0.26080602, -0.79752   , -0.556934  ,  1.37885   ,  0.253532  ,\n",
       "       -0.28617   , -0.01279998, -0.35361   , -0.88365006,  0.37167   ,\n",
       "        1.3679199 , -0.28456   , -0.48606   ,  0.273633  , -0.271609  ],\n",
       "      dtype=float32)"
      ]
     },
     "execution_count": 17,
     "metadata": {},
     "output_type": "execute_result"
    }
   ],
   "source": [
    "glove_embeddings[\"society\"] - glove_embeddings[\"individual\"]"
   ]
  },
  {
   "cell_type": "markdown",
   "metadata": {},
   "source": [
    "You might want to use that derived vector as part of your model, so here's how to add it into the model's overall set of vectors. \n",
    "\n",
    "(This next part is a bit technical and not substantively interesting, so I'll gloss over the details. For an alternative, check out the whatlies package below.) "
   ]
  },
  {
   "cell_type": "code",
   "execution_count": 18,
   "metadata": {},
   "outputs": [
    {
     "data": {
      "text/plain": [
       "array([-0.2137    , -0.12681997, -1.5519401 , -1.06006   , -0.61548996,\n",
       "       -0.53183997, -0.82212996, -0.509128  , -0.42266   , -0.13182001,\n",
       "        0.721653  ,  0.70028996,  0.32768002,  0.228682  , -1.06475   ,\n",
       "        0.479387  ,  0.05309001,  0.45573002, -0.0792658 ,  1.6494601 ,\n",
       "        0.19141   ,  0.94154   , -0.60156   , -0.06109999,  0.07126   ,\n",
       "       -0.60938   , -0.63932997,  0.13989997, -0.38461003,  0.87844   ,\n",
       "       -0.41480017, -0.87121   , -0.222503  , -0.70248   , -1.01597   ,\n",
       "       -0.26080602, -0.79752   , -0.556934  ,  1.37885   ,  0.253532  ,\n",
       "       -0.28617   , -0.01279998, -0.35361   , -0.88365006,  0.37167   ,\n",
       "        1.3679199 , -0.28456   , -0.48606   ,  0.273633  , -0.271609  ],\n",
       "      dtype=float32)"
      ]
     },
     "execution_count": 18,
     "metadata": {},
     "output_type": "execute_result"
    }
   ],
   "source": [
    "diff = glove_embeddings[\"society\"] - glove_embeddings[\"individual\"]\n",
    "glove_embeddings.add(\"society - individual\", diff)\n",
    "glove_embeddings[\"society - individual\"]"
   ]
  },
  {
   "cell_type": "markdown",
   "metadata": {},
   "source": [
    "In order for `most_similar()` to actually work with the \"society - individual\" vector, there's one more necessary step to run, in the next cell. \n",
    "\n",
    "(Why? Adding the vector doesn't automatically create an L2-normalized version of it, which `most_similar()` needs. `init_sims()` will recalculate, but only if the rest of the normed vectors are removed first.) "
   ]
  },
  {
   "cell_type": "code",
   "execution_count": 19,
   "metadata": {},
   "outputs": [],
   "source": [
    "glove_embeddings.vectors_norm = None\n",
    "glove_embeddings.init_sims()"
   ]
  },
  {
   "cell_type": "markdown",
   "metadata": {},
   "source": [
    "Now we can query this single vector and get the same results: "
   ]
  },
  {
   "cell_type": "code",
   "execution_count": 20,
   "metadata": {},
   "outputs": [
    {
     "data": {
      "text/plain": [
       "[('mattachine', 0.6110344529151917),\n",
       " ('anthroposophical', 0.5894421935081482),\n",
       " ('smolny', 0.5745000243186951),\n",
       " ('polytechnical', 0.5712946057319641),\n",
       " ('abyssinian', 0.5659253001213074),\n",
       " ('post-industrial', 0.5655431151390076),\n",
       " ('pompidou', 0.5630674362182617),\n",
       " ('presbyterian', 0.5473666787147522),\n",
       " ('plaquemine', 0.5414626598358154),\n",
       " ('anti-vivisection', 0.5300812721252441)]"
      ]
     },
     "execution_count": 20,
     "metadata": {},
     "output_type": "execute_result"
    }
   ],
   "source": [
    "glove_embeddings.most_similar(positive=[\"society - individual\"])"
   ]
  },
  {
   "cell_type": "code",
   "execution_count": 21,
   "metadata": {},
   "outputs": [
    {
     "data": {
      "text/plain": [
       "[('100-200', 0.6315953731536865),\n",
       " ('apiece', 0.6210841536521912),\n",
       " ('6s', 0.6087102890014648),\n",
       " ('contendership', 0.6076172590255737),\n",
       " ('measly', 0.6065807938575745),\n",
       " ('lengths', 0.6052266359329224),\n",
       " ('2,195', 0.6003236770629883),\n",
       " ('finishers', 0.5999947786331177),\n",
       " ('onlytest', 0.594523549079895),\n",
       " ('777-200s', 0.5921435952186584)]"
      ]
     },
     "execution_count": 21,
     "metadata": {},
     "output_type": "execute_result"
    }
   ],
   "source": [
    "glove_embeddings.most_similar(negative=[\"society - individual\"])"
   ]
  },
  {
   "cell_type": "markdown",
   "metadata": {},
   "source": [
    "### Exercise\n",
    "\n",
    "(Adapted from Kozlowski et al 2019) Make a list of sports. Construct a \"rich\" vs \"poor\" dimension to proxy social class. Which sports have the strongest class associations in either direction?"
   ]
  },
  {
   "cell_type": "code",
   "execution_count": 22,
   "metadata": {},
   "outputs": [],
   "source": [
    "# add to this list!\n",
    "sports = [\"hockey\", \"baseball\", ] "
   ]
  },
  {
   "cell_type": "code",
   "execution_count": 23,
   "metadata": {},
   "outputs": [],
   "source": [
    "# create a rich - poor vector \n",
    "# then add it to the GloVe vectors"
   ]
  },
  {
   "cell_type": "code",
   "execution_count": 24,
   "metadata": {},
   "outputs": [],
   "source": [
    "# calculate similarity between class dimension and each sport\n",
    "sport_similarities = []\n",
    "for sport in sports:\n",
    "    pass # replace with code to calculate similarity - you "
   ]
  },
  {
   "cell_type": "markdown",
   "metadata": {},
   "source": [
    "## 2. Creating a locally trained model (Word2Vec)\n",
    "\n",
    "If you're interested in word associations in a particular collection of texts, or if you suspect that those texts use language really differently from the sources pretrained models derive from (largely different kinds of contemporary internet data), then you might want to train your own model."
   ]
  },
  {
   "cell_type": "markdown",
   "metadata": {},
   "source": [
    "### Getting a corpus (20 Newsgroups)\n",
    "\n",
    "To train a new model on a corpus, we need a corpus. We'll use the [20 Newsgroups data set](http://qwone.com/~jason/20Newsgroups/), which was created in 1995 for use in text-related machine learning research. Because the posts are partitioned into different groups, it's mainly used in classification and clustering applications. For an interesting contemporary example, which uses clusters of pretrained embeddings analogously to topic models, see [Sia et al 2020](http://arxiv.org/abs/2004.14914). \n",
    "\n",
    "(Sociologically, I find Usenet interesting as a historical precursor to contemporary online communities. Check out Nancy Baym's 1994 paper or her 2000 book if you'd like more ethnographic context, or Avery Dame-Griff 2019 if you'd like a historically-informed computational analysis.)\n",
    "\n",
    "Running this code will download the 20 Newsgroups data set:"
   ]
  },
  {
   "cell_type": "code",
   "execution_count": 25,
   "metadata": {},
   "outputs": [],
   "source": [
    "from sklearn.datasets import fetch_20newsgroups\n",
    "\n",
    "twenty_newsgroups = fetch_20newsgroups(data_home=\"data\",\n",
    "                                       subset=\"all\",\n",
    "                                       shuffle=False,\n",
    "                                       remove=('headers', 'footers', 'quotes'),\n",
    "                                       download_if_missing=True)"
   ]
  },
  {
   "cell_type": "markdown",
   "metadata": {},
   "source": [
    "The data set has about 18000 posts. The way the `remove` argument parses the posts is approximate, so some of those posts wind up being empty strings."
   ]
  },
  {
   "cell_type": "code",
   "execution_count": 26,
   "metadata": {},
   "outputs": [
    {
     "data": {
      "text/plain": [
       "18846"
      ]
     },
     "execution_count": 26,
     "metadata": {},
     "output_type": "execute_result"
    }
   ],
   "source": [
    "len(twenty_newsgroups.data)"
   ]
  },
  {
   "cell_type": "markdown",
   "metadata": {},
   "source": [
    "Let's look at the data by printing out a few posts at random."
   ]
  },
  {
   "cell_type": "code",
   "execution_count": 27,
   "metadata": {},
   "outputs": [
    {
     "name": "stdout",
     "output_type": "stream",
     "text": [
      "\n",
      "morgan and guzman will have era's 1 run higher than last year, and\n",
      " the cubs will be idiots and not pitch harkey as much as hibbard.\n",
      " castillo won't be good (i think he's a stud pitcher)\n"
     ]
    }
   ],
   "source": [
    "print(twenty_newsgroups.data[0])"
   ]
  },
  {
   "cell_type": "code",
   "execution_count": 28,
   "metadata": {},
   "outputs": [
    {
     "name": "stdout",
     "output_type": "stream",
     "text": [
      "Help!!!\n",
      "\n",
      "I have an ADB graphicsd tablet which I want to connect to my\n",
      "Quadra 950. Unfortunately, the 950 has only one ADB port and\n",
      "it seems I would have to give up my mouse.\n",
      "\n",
      "Please, can someone help me? I want to use the tablet as well as\n",
      "the mouse (and the keyboard of course!!!).\n",
      "\n",
      "Thanks in advance.\n"
     ]
    }
   ],
   "source": [
    "print(twenty_newsgroups.data[5])"
   ]
  },
  {
   "cell_type": "code",
   "execution_count": 29,
   "metadata": {},
   "outputs": [],
   "source": [
    "# Look at a few more!"
   ]
  },
  {
   "cell_type": "markdown",
   "metadata": {},
   "source": [
    "You might notice some obvious themes or topics in the text. These are the groups included in the data set: "
   ]
  },
  {
   "cell_type": "code",
   "execution_count": 30,
   "metadata": {},
   "outputs": [
    {
     "data": {
      "text/plain": [
       "['alt.atheism',\n",
       " 'comp.graphics',\n",
       " 'comp.os.ms-windows.misc',\n",
       " 'comp.sys.ibm.pc.hardware',\n",
       " 'comp.sys.mac.hardware',\n",
       " 'comp.windows.x',\n",
       " 'misc.forsale',\n",
       " 'rec.autos',\n",
       " 'rec.motorcycles',\n",
       " 'rec.sport.baseball',\n",
       " 'rec.sport.hockey',\n",
       " 'sci.crypt',\n",
       " 'sci.electronics',\n",
       " 'sci.med',\n",
       " 'sci.space',\n",
       " 'soc.religion.christian',\n",
       " 'talk.politics.guns',\n",
       " 'talk.politics.mideast',\n",
       " 'talk.politics.misc',\n",
       " 'talk.religion.misc']"
      ]
     },
     "execution_count": 30,
     "metadata": {},
     "output_type": "execute_result"
    }
   ],
   "source": [
    "twenty_newsgroups.target_names"
   ]
  },
  {
   "cell_type": "markdown",
   "metadata": {},
   "source": [
    "Preprocessing is an important (and sometimes underappreciated) step in text analysis, which [can have downstream consequences](https://github.com/matthewjdenny/preText). \n",
    "\n",
    "We'll preprocess eacg Usenet post pretty minimally -- remove punctuation and special characters, lowercase, and tokenize it into a list of words: "
   ]
  },
  {
   "cell_type": "code",
   "execution_count": 31,
   "metadata": {},
   "outputs": [
    {
     "name": "stdout",
     "output_type": "stream",
     "text": [
      "['help', 'i', 'have', 'an', 'adb', 'graphicsd', 'tablet', 'which', 'i', 'want', 'to', 'connect', 'to', 'my', 'quadra', 'unfortunately', 'the', 'has', 'only', 'one', 'adb', 'port', 'and', 'it', 'seems', 'i', 'would', 'have', 'to', 'give', 'up', 'my', 'mouse', 'please', 'can', 'someone', 'help', 'me', 'i', 'want', 'to', 'use', 'the', 'tablet', 'as', 'well', 'as', 'the', 'mouse', 'and', 'the', 'keyboard', 'of', 'course', 'thanks', 'in', 'advance']\n"
     ]
    }
   ],
   "source": [
    "from gensim.utils import simple_preprocess\n",
    "\n",
    "print(simple_preprocess(twenty_newsgroups.data[5], min_len=1, max_len=20))"
   ]
  },
  {
   "cell_type": "code",
   "execution_count": 32,
   "metadata": {},
   "outputs": [],
   "source": [
    "preprocessed_docs = []\n",
    "for doc in twenty_newsgroups.data:\n",
    "    preprocessed_docs.append(simple_preprocess(doc, min_len=1, max_len=20))"
   ]
  },
  {
   "cell_type": "markdown",
   "metadata": {},
   "source": [
    "### Fitting the model\n",
    "\n",
    "That was a lot of data work, but now we're ready to train a word2vec model. \n",
    "\n",
    "We'll use skip-gram (`sg=1`) with negative sampling (`negative=5`). We'll use a small vector size (`size=50`) because it's faster to train. We'll make a few passes over the data set (`iter=10`), and we'll ignore any words appearing less than 5 times total (`min_count=5`). \n",
    "\n",
    "To start with, let's try a small context window around each word (`window=5`). \n",
    "\n",
    "**Note:** This small vector size, combined with this small window size, isn't something we'd expect to yield a great model, but it's relatively quick to train. (On my laptop, that means less than two minutes -- it might vary for your machine. `workers=3` means that it runs on three processes.)"
   ]
  },
  {
   "cell_type": "code",
   "execution_count": 33,
   "metadata": {},
   "outputs": [],
   "source": [
    "from gensim.models import Word2Vec\n",
    "\n",
    "w2v_model1 = Word2Vec(sentences=preprocessed_docs, \n",
    "                      size=50, \n",
    "                      window=5, \n",
    "                      min_count=5,\n",
    "                      workers=3,\n",
    "                      sg=1, \n",
    "                      hs=0, \n",
    "                      negative=5,\n",
    "                      iter=10)"
   ]
  },
  {
   "cell_type": "markdown",
   "metadata": {},
   "source": [
    "Here are some basic properties of the trained model. Note that the embeddings themselves are accessed through the `wv` property. "
   ]
  },
  {
   "cell_type": "code",
   "execution_count": 34,
   "metadata": {},
   "outputs": [
    {
     "data": {
      "text/plain": [
       "18846"
      ]
     },
     "execution_count": 34,
     "metadata": {},
     "output_type": "execute_result"
    }
   ],
   "source": [
    "w2v_model1.corpus_count"
   ]
  },
  {
   "cell_type": "code",
   "execution_count": 35,
   "metadata": {},
   "outputs": [
    {
     "data": {
      "text/plain": [
       "114.06957440099978"
      ]
     },
     "execution_count": 35,
     "metadata": {},
     "output_type": "execute_result"
    }
   ],
   "source": [
    "w2v_model1.total_train_time"
   ]
  },
  {
   "cell_type": "code",
   "execution_count": 36,
   "metadata": {},
   "outputs": [
    {
     "data": {
      "text/plain": [
       "(26489, 50)"
      ]
     },
     "execution_count": 36,
     "metadata": {},
     "output_type": "execute_result"
    }
   ],
   "source": [
    "w2v_model1.wv.vectors.shape"
   ]
  },
  {
   "cell_type": "markdown",
   "metadata": {},
   "source": [
    "The vector for a given word will be a different string of numbers from the previous GloVe model. (And there's no reason for the dimensions to correspond, either!)"
   ]
  },
  {
   "cell_type": "code",
   "execution_count": 37,
   "metadata": {},
   "outputs": [
    {
     "data": {
      "text/plain": [
       "array([ 0.4648067 , -0.30961558, -0.4297171 ,  0.33018082, -0.00298255,\n",
       "       -0.46494055,  0.1689612 , -0.21658695, -0.4500986 , -0.5325201 ,\n",
       "       -0.09981444,  0.5783826 ,  0.49386802, -0.10718588, -0.15735006,\n",
       "       -0.30751842,  0.3241669 , -0.18394656, -1.0072792 ,  0.3589885 ,\n",
       "       -0.18563986, -0.30212823, -0.09242135,  0.8646745 ,  0.1605212 ,\n",
       "       -0.01719386, -0.1941163 , -0.19161738, -0.2948527 ,  0.6057556 ,\n",
       "       -0.26870143,  0.15840948, -0.15963495, -0.5886368 , -0.0726027 ,\n",
       "       -0.61497533,  0.2819119 , -0.8079064 ,  0.67224276, -0.32638654,\n",
       "       -0.4364008 , -0.42778316, -0.16592911,  0.37908164, -0.35536066,\n",
       "       -0.29594222,  0.14621828, -0.14375633,  0.07059345, -0.5240879 ],\n",
       "      dtype=float32)"
      ]
     },
     "execution_count": 37,
     "metadata": {},
     "output_type": "execute_result"
    }
   ],
   "source": [
    "w2v_model1.wv[\"society\"]"
   ]
  },
  {
   "cell_type": "markdown",
   "metadata": {},
   "source": [
    "Instead, we'll look at the most similar words again, to get a qualitative impression for whether this model is encoding a meaning similar to the GloVe model. "
   ]
  },
  {
   "cell_type": "code",
   "execution_count": 38,
   "metadata": {},
   "outputs": [
    {
     "data": {
      "text/plain": [
       "[('secular', 0.7837257385253906),\n",
       " ('realm', 0.7744844555854797),\n",
       " ('ism', 0.7651664018630981),\n",
       " ('fertility', 0.7509962320327759),\n",
       " ('nation', 0.7491022348403931),\n",
       " ('communal', 0.7490184307098389),\n",
       " ('astronautical', 0.7445829510688782),\n",
       " ('humanist', 0.7444897294044495),\n",
       " ('philosophies', 0.7368832230567932),\n",
       " ('offshoots', 0.7347400784492493)]"
      ]
     },
     "execution_count": 38,
     "metadata": {},
     "output_type": "execute_result"
    }
   ],
   "source": [
    "w2v_model1.wv.most_similar(\"society\")"
   ]
  },
  {
   "cell_type": "markdown",
   "metadata": {},
   "source": [
    "Again, for the word \"individual\": "
   ]
  },
  {
   "cell_type": "code",
   "execution_count": 39,
   "metadata": {},
   "outputs": [
    {
     "data": {
      "text/plain": [
       "[('dignity', 0.7122915387153625),\n",
       " ('qualification', 0.708573579788208),\n",
       " ('legality', 0.7025988101959229),\n",
       " ('inalienable', 0.7006253004074097),\n",
       " ('exclusive', 0.6991674304008484),\n",
       " ('outweighs', 0.6921983957290649),\n",
       " ('rights', 0.6904846429824829),\n",
       " ('incur', 0.6857858300209045),\n",
       " ('individuals', 0.6842727661132812),\n",
       " ('basis', 0.6831294298171997)]"
      ]
     },
     "execution_count": 39,
     "metadata": {},
     "output_type": "execute_result"
    }
   ],
   "source": [
    "w2v_model1.wv.most_similar(\"individual\")"
   ]
  },
  {
   "cell_type": "markdown",
   "metadata": {},
   "source": [
    "We won't repeat every step from Part 1 above. \n",
    "\n",
    "Instead, let's experiment with changing one parameter for training the model, the context window around each word. We'll fit a new model with `window=10`. "
   ]
  },
  {
   "cell_type": "code",
   "execution_count": 40,
   "metadata": {},
   "outputs": [],
   "source": [
    "w2v_model2 = Word2Vec(sentences=preprocessed_docs, \n",
    "                      size=50, \n",
    "                      window=10, \n",
    "                      min_count=5,\n",
    "                      workers=3,\n",
    "                      sg=1, \n",
    "                      hs=0, \n",
    "                      negative=5,\n",
    "                      iter=10)"
   ]
  },
  {
   "cell_type": "code",
   "execution_count": 41,
   "metadata": {},
   "outputs": [
    {
     "data": {
      "text/plain": [
       "184.1943228589999"
      ]
     },
     "execution_count": 41,
     "metadata": {},
     "output_type": "execute_result"
    }
   ],
   "source": [
    "w2v_model2.total_train_time"
   ]
  },
  {
   "cell_type": "code",
   "execution_count": 42,
   "metadata": {},
   "outputs": [
    {
     "data": {
      "text/plain": [
       "[('footing', 0.796887218952179),\n",
       " ('secular', 0.7938194274902344),\n",
       " ('ism', 0.783584475517273),\n",
       " ('environmentalism', 0.7684481739997864),\n",
       " ('advocates', 0.7650079727172852),\n",
       " ('nation', 0.7641049027442932),\n",
       " ('fertility', 0.760269045829773),\n",
       " ('realm', 0.7589974999427795),\n",
       " ('cultural', 0.750839114189148),\n",
       " ('communal', 0.7494202852249146)]"
      ]
     },
     "execution_count": 42,
     "metadata": {},
     "output_type": "execute_result"
    }
   ],
   "source": [
    "w2v_model2.wv.most_similar(\"society\")"
   ]
  },
  {
   "cell_type": "markdown",
   "metadata": {},
   "source": [
    "Qualitatively, smaller windows (e.g. 5) tend to encode more syntactic similarities (words that are substitutes), whereas larger windows (e.g. 50) encode more semantic similarities (words that are topically similar). See Rodriguez and Spirling 2020 or [this PyData talk from 2017](https://www.youtube.com/watch?v=tAxrlAVw-Tk&t=648s)."
   ]
  },
  {
   "cell_type": "markdown",
   "metadata": {},
   "source": [
    "### Exercise\n",
    "\n",
    "(Adapted from Rodriguez and Spirling 2020) How correlated are those two word2vec models? Pick a focal word like \"society\" and calculate cosine similarity between that word and every word in the entire model vocabulary, for each model. Then calculate the correlation between those two measures.\n",
    "\n",
    "(You might use `most_similar()` with the appropriate value for `topn`, or `similarity()` with a for-loop. The first is probably more efficient, but then you'll need to sort or join the two lists based on the words. Python data science packages like pandas may be helpful.) \n",
    "\n",
    "---\n",
    "\n",
    "On your own, after the workshop: \n",
    "\n",
    "- Try a larger vector size (e.g. 100, 150, 200, 300)\n",
    "- Try a larger window size (e.g. 20, 50) \n",
    "- Try reducing min_count (e.g. from 5 to 2)\n",
    "\n",
    "**Note: all of these parameter changes make the model take longer to train!**"
   ]
  },
  {
   "cell_type": "code",
   "execution_count": 43,
   "metadata": {},
   "outputs": [],
   "source": [
    "from scipy.stats import pearsonr"
   ]
  },
  {
   "cell_type": "code",
   "execution_count": 44,
   "metadata": {},
   "outputs": [],
   "source": [
    "# write your code here"
   ]
  },
  {
   "cell_type": "markdown",
   "metadata": {},
   "source": [
    "## 3. Visualizing embeddings (whatlies) [OPTIONAL]\n",
    "\n",
    "The [whatlies package](https://rasahq.github.io/whatlies/) is relatively new (Warmerdam et al 2020); it's meant to facilitate exploring and visualizing embeddings.\n",
    "\n",
    "It works as a wrapper around embeddings from different packages, including gensim. We'll turn the word2vec model from Part 3 into a `whatlies.EmbeddingSet`."
   ]
  },
  {
   "cell_type": "code",
   "execution_count": 45,
   "metadata": {},
   "outputs": [],
   "source": [
    "from whatlies import Embedding, EmbeddingSet"
   ]
  },
  {
   "cell_type": "code",
   "execution_count": 46,
   "metadata": {},
   "outputs": [],
   "source": [
    "emb_w2v = EmbeddingSet.from_names_X(names=w2v_model1.wv.index2word, \n",
    "                                    X=w2v_model1.wv.vectors)"
   ]
  },
  {
   "cell_type": "markdown",
   "metadata": {},
   "source": [
    "whatlies has built-in functions for plotting things like cosine similarities (built on the Python visualization packages matplotlib and altair):"
   ]
  },
  {
   "cell_type": "code",
   "execution_count": 47,
   "metadata": {},
   "outputs": [
    {
     "data": {
      "image/png": "[encoded data removed]",
      "text/plain": [
       "<Figure size 432x288 with 2 Axes>"
      ]
     },
     "metadata": {
      "needs_background": "light"
     },
     "output_type": "display_data"
    }
   ],
   "source": [
    "emb_w2v.embset_similar(\"society\", n=10, metric=\"cosine\").plot_similarity()"
   ]
  },
  {
   "cell_type": "code",
   "execution_count": 48,
   "metadata": {},
   "outputs": [
    {
     "data": {
      "image/png": "[encoded data removed]",
      "text/plain": [
       "<Figure size 432x288 with 2 Axes>"
      ]
     },
     "metadata": {
      "needs_background": "light"
     },
     "output_type": "display_data"
    }
   ],
   "source": [
    "emb_w2v.embset_similar(\"individual\", n=10, metric=\"cosine\").plot_similarity()"
   ]
  },
  {
   "cell_type": "markdown",
   "metadata": {},
   "source": [
    "It also implements vector algebra on embeddings in a nice way: "
   ]
  },
  {
   "cell_type": "code",
   "execution_count": 49,
   "metadata": {},
   "outputs": [
    {
     "data": {
      "image/png": "[encoded data removed]",
      "text/plain": [
       "<Figure size 432x288 with 2 Axes>"
      ]
     },
     "metadata": {
      "needs_background": "light"
     },
     "output_type": "display_data"
    }
   ],
   "source": [
    "emb_w2v.embset_similar(emb_w2v[\"society\"] - emb_w2v[\"individual\"]).plot_similarity()"
   ]
  },
  {
   "cell_type": "markdown",
   "metadata": {},
   "source": [
    "We can plot the similarities of different vectors against each other on the axes as well:"
   ]
  },
  {
   "cell_type": "code",
   "execution_count": 50,
   "metadata": {},
   "outputs": [
    {
     "data": {
      "text/plain": [
       "EmbSet.subset(society,nation,individual,exclusive)"
      ]
     },
     "execution_count": 50,
     "metadata": {},
     "output_type": "execute_result"
    },
    {
     "data": {
      "image/png": "[encoded data removed]",
      "text/plain": [
       "<Figure size 432x288 with 1 Axes>"
      ]
     },
     "metadata": {
      "needs_background": "light"
     },
     "output_type": "display_data"
    }
   ],
   "source": [
    "(emb_w2v[\"society\", \"nation\", \"individual\", \"exclusive\"]\n",
    " .plot(x_axis=\"society\", \n",
    "       y_axis=\"individual\", \n",
    "       axis_metric=\"cosine_similarity\"))"
   ]
  },
  {
   "cell_type": "markdown",
   "metadata": {},
   "source": [
    "Or, we can transform the local vector space. Mouse over the points below to see the words.\n",
    "\n",
    "(You could, of course, use any dimensionality reduction technique on the entire vector space as well.)"
   ]
  },
  {
   "cell_type": "code",
   "execution_count": 51,
   "metadata": {},
   "outputs": [],
   "source": [
    "from whatlies.transformers import Pca"
   ]
  },
  {
   "cell_type": "code",
   "execution_count": 52,
   "metadata": {},
   "outputs": [
    {
     "data": {
      "text/html": [
       "\n",
       "<div id=\"altair-viz-9a1d2d4ef0664ba19df262067b6805c3\"></div>\n",
       "<script type=\"text/javascript\">\n",
       "  (function(spec, embedOpt){\n",
       "    let outputDiv = document.currentScript.previousElementSibling;\n",
       "    if (outputDiv.id !== \"altair-viz-9a1d2d4ef0664ba19df262067b6805c3\") {\n",
       "      outputDiv = document.getElementById(\"altair-viz-9a1d2d4ef0664ba19df262067b6805c3\");\n",
       "    }\n",
       "    const paths = {\n",
       "      \"vega\": \"https://cdn.jsdelivr.net/npm//vega@5?noext\",\n",
       "      \"vega-lib\": \"https://cdn.jsdelivr.net/npm//vega-lib?noext\",\n",
       "      \"vega-lite\": \"https://cdn.jsdelivr.net/npm//vega-lite@4.8.1?noext\",\n",
       "      \"vega-embed\": \"https://cdn.jsdelivr.net/npm//vega-embed@6?noext\",\n",
       "    };\n",
       "\n",
       "    function loadScript(lib) {\n",
       "      return new Promise(function(resolve, reject) {\n",
       "        var s = document.createElement('script');\n",
       "        s.src = paths[lib];\n",
       "        s.async = true;\n",
       "        s.onload = () => resolve(paths[lib]);\n",
       "        s.onerror = () => reject(`Error loading script: ${paths[lib]}`);\n",
       "        document.getElementsByTagName(\"head\")[0].appendChild(s);\n",
       "      });\n",
       "    }\n",
       "\n",
       "    function showError(err) {\n",
       "      outputDiv.innerHTML = `<div class=\"error\" style=\"color:red;\">${err}</div>`;\n",
       "      throw err;\n",
       "    }\n",
       "\n",
       "    function displayChart(vegaEmbed) {\n",
       "      vegaEmbed(outputDiv, spec, embedOpt)\n",
       "        .catch(err => showError(`Javascript Error: ${err.message}<br>This usually means there's a typo in your chart specification. See the javascript console for the full traceback.`));\n",
       "    }\n",
       "\n",
       "    if(typeof define === \"function\" && define.amd) {\n",
       "      requirejs.config({paths});\n",
       "      require([\"vega-embed\"], displayChart, err => showError(`Error loading script: ${err.message}`));\n",
       "    } else if (typeof vegaEmbed === \"function\") {\n",
       "      displayChart(vegaEmbed);\n",
       "    } else {\n",
       "      loadScript(\"vega\")\n",
       "        .then(() => loadScript(\"vega-lite\"))\n",
       "        .then(() => loadScript(\"vega-embed\"))\n",
       "        .catch(showError)\n",
       "        .then(() => displayChart(vegaEmbed));\n",
       "    }\n",
       "  })({\"config\": {\"view\": {\"continuousWidth\": 400, \"continuousHeight\": 300}}, \"data\": {\"name\": \"data-0ce9153d71afd4e9eab4f76728329b0b\"}, \"mark\": {\"type\": \"circle\", \"size\": 60}, \"encoding\": {\"color\": {\"type\": \"nominal\", \"field\": \"\", \"legend\": null}, \"tooltip\": [{\"type\": \"nominal\", \"field\": \"name\"}, {\"type\": \"nominal\", \"field\": \"original\"}], \"x\": {\"type\": \"quantitative\", \"axis\": {\"title\": \"Dimension 0\"}, \"field\": \"x_axis\"}, \"y\": {\"type\": \"quantitative\", \"axis\": {\"title\": \"Dimension 1\"}, \"field\": \"y_axis\"}}, \"selection\": {\"selector001\": {\"type\": \"interval\", \"bind\": \"scales\", \"encodings\": [\"x\", \"y\"]}}, \"title\": \"Dimension 0 vs. Dimension 1\", \"$schema\": \"https://vega.github.io/schema/vega-lite/v4.8.1.json\", \"datasets\": {\"data-0ce9153d71afd4e9eab4f76728329b0b\": [{\"x_axis\": 0.29952308535575867, \"y_axis\": 0.8723770380020142, \"name\": \"society\", \"original\": \"society\"}, {\"x_axis\": 1.1209288835525513, \"y_axis\": 0.3911184072494507, \"name\": \"secular\", \"original\": \"secular\"}, {\"x_axis\": 0.40628567337989807, \"y_axis\": -0.40850526094436646, \"name\": \"realm\", \"original\": \"realm\"}, {\"x_axis\": -0.5611036419868469, \"y_axis\": -0.18582463264465332, \"name\": \"ism\", \"original\": \"ism\"}, {\"x_axis\": 0.004202389623969793, \"y_axis\": -0.35252445936203003, \"name\": \"fertility\", \"original\": \"fertility\"}, {\"x_axis\": 0.6222142577171326, \"y_axis\": 0.20999212563037872, \"name\": \"nation\", \"original\": \"nation\"}, {\"x_axis\": -0.026594674214720726, \"y_axis\": -0.3913387060165405, \"name\": \"communal\", \"original\": \"communal\"}, {\"x_axis\": -0.7630767226219177, \"y_axis\": 0.8838430047035217, \"name\": \"astronautical\", \"original\": \"astronautical\"}, {\"x_axis\": 0.13740336894989014, \"y_axis\": 0.2048325389623642, \"name\": \"humanist\", \"original\": \"humanist\"}, {\"x_axis\": 0.15130239725112915, \"y_axis\": -0.17662447690963745, \"name\": \"philosophies\", \"original\": \"philosophies\"}, {\"x_axis\": -0.06915435940027237, \"y_axis\": -0.3994660973548889, \"name\": \"offshoots\", \"original\": \"offshoots\"}, {\"x_axis\": 0.15132753551006317, \"y_axis\": 0.7515997290611267, \"name\": \"community\", \"original\": \"community\"}, {\"x_axis\": -0.616267740726471, \"y_axis\": 0.3885056674480438, \"name\": \"cryptogram\", \"original\": \"cryptogram\"}, {\"x_axis\": 1.0463786125183105, \"y_axis\": 0.7524108290672302, \"name\": \"democracy\", \"original\": \"democracy\"}, {\"x_axis\": 0.3357959985733032, \"y_axis\": -0.3291004002094269, \"name\": \"influence\", \"original\": \"influence\"}, {\"x_axis\": -0.15717577934265137, \"y_axis\": -0.3666573464870453, \"name\": \"abolition\", \"original\": \"abolition\"}, {\"x_axis\": 1.1028071641921997, \"y_axis\": 0.5121613144874573, \"name\": \"culture\", \"original\": \"culture\"}, {\"x_axis\": -0.12759070098400116, \"y_axis\": -0.23870112001895905, \"name\": \"emergence\", \"original\": \"emergence\"}, {\"x_axis\": 0.32162919640541077, \"y_axis\": -0.27816885709762573, \"name\": \"standpoint\", \"original\": \"standpoint\"}, {\"x_axis\": 0.06288433074951172, \"y_axis\": 0.8814567923545837, \"name\": \"organizations\", \"original\": \"organizations\"}, {\"x_axis\": -0.05466402322053909, \"y_axis\": -0.2666049897670746, \"name\": \"worldview\", \"original\": \"worldview\"}, {\"x_axis\": -0.5559503436088562, \"y_axis\": 0.6461901068687439, \"name\": \"foundation\", \"original\": \"foundation\"}, {\"x_axis\": -0.9061737656593323, \"y_axis\": 0.01466701366007328, \"name\": \"handbook_\", \"original\": \"handbook_\"}, {\"x_axis\": -0.3263786733150482, \"y_axis\": 1.3124545812606812, \"name\": \"association\", \"original\": \"association\"}, {\"x_axis\": -0.18744443356990814, \"y_axis\": -0.364020973443985, \"name\": \"confidentiality\", \"original\": \"confidentiality\"}, {\"x_axis\": 0.16069960594177246, \"y_axis\": -0.01263734232634306, \"name\": \"industrialized\", \"original\": \"industrialized\"}, {\"x_axis\": -0.3354814350605011, \"y_axis\": -0.22889888286590576, \"name\": \"gatt\", \"original\": \"gatt\"}, {\"x_axis\": 0.65815669298172, \"y_axis\": 0.3125644624233246, \"name\": \"movement\", \"original\": \"movement\"}, {\"x_axis\": 0.6528583765029907, \"y_axis\": 0.3284667134284973, \"name\": \"philosophy\", \"original\": \"philosophy\"}, {\"x_axis\": -0.19524577260017395, \"y_axis\": 0.05040287971496582, \"name\": \"banking\", \"original\": \"banking\"}, {\"x_axis\": -0.3703887462615967, \"y_axis\": 0.000995681737549603, \"name\": \"socialization\", \"original\": \"socialization\"}, {\"x_axis\": -0.003124331124126911, \"y_axis\": -0.6107853651046753, \"name\": \"insights\", \"original\": \"insights\"}, {\"x_axis\": -1.0133522748947144, \"y_axis\": 0.7153416275978088, \"name\": \"aas\", \"original\": \"aas\"}, {\"x_axis\": 0.41655075550079346, \"y_axis\": -0.07125264406204224, \"name\": \"awareness\", \"original\": \"awareness\"}, {\"x_axis\": -0.203902468085289, \"y_axis\": -0.528099536895752, \"name\": \"intimidation\", \"original\": \"intimidation\"}, {\"x_axis\": 0.20687082409858704, \"y_axis\": 0.26571014523506165, \"name\": \"founded\", \"original\": \"founded\"}, {\"x_axis\": -0.8734729290008545, \"y_axis\": 0.5732911825180054, \"name\": \"nss\", \"original\": \"nss\"}, {\"x_axis\": -0.11604499816894531, \"y_axis\": -0.162882998585701, \"name\": \"bloc\", \"original\": \"bloc\"}, {\"x_axis\": -0.46462687849998474, \"y_axis\": 0.9602326154708862, \"name\": \"organization\", \"original\": \"organization\"}, {\"x_axis\": -0.3430335819721222, \"y_axis\": 0.36471059918403625, \"name\": \"standards\", \"original\": \"standards\"}, {\"x_axis\": -0.46520718932151794, \"y_axis\": -0.4371810555458069, \"name\": \"steward\", \"original\": \"steward\"}, {\"x_axis\": 0.8504171967506409, \"y_axis\": 0.36538776755332947, \"name\": \"liberties\", \"original\": \"liberties\"}, {\"x_axis\": -0.23751625418663025, \"y_axis\": -0.4978034198284149, \"name\": \"unwelcome\", \"original\": \"unwelcome\"}, {\"x_axis\": 1.1293690204620361, \"y_axis\": 0.4323738217353821, \"name\": \"cultural\", \"original\": \"cultural\"}, {\"x_axis\": -0.010656493715941906, \"y_axis\": -0.4523598849773407, \"name\": \"benevolent\", \"original\": \"benevolent\"}, {\"x_axis\": 0.15521159768104553, \"y_axis\": -0.5687677264213562, \"name\": \"derives\", \"original\": \"derives\"}, {\"x_axis\": -0.061054032295942307, \"y_axis\": -0.2653673589229584, \"name\": \"clout\", \"original\": \"clout\"}, {\"x_axis\": -0.24394366145133972, \"y_axis\": -0.6209304928779602, \"name\": \"wholesome\", \"original\": \"wholesome\"}, {\"x_axis\": -0.11877471953630447, \"y_axis\": 0.05419788882136345, \"name\": \"sampson\", \"original\": \"sampson\"}, {\"x_axis\": -0.9067091345787048, \"y_axis\": 0.5661408305168152, \"name\": \"investor\", \"original\": \"investor\"}, {\"x_axis\": -0.5883990526199341, \"y_axis\": -0.09677734225988388, \"name\": \"berkley\", \"original\": \"berkley\"}, {\"x_axis\": -0.27497997879981995, \"y_axis\": 0.8207117915153503, \"name\": \"american\", \"original\": \"american\"}, {\"x_axis\": -0.2306077778339386, \"y_axis\": -0.2593957781791687, \"name\": \"treasure\", \"original\": \"treasure\"}, {\"x_axis\": -0.32428017258644104, \"y_axis\": -0.28540197014808655, \"name\": \"monuments\", \"original\": \"monuments\"}, {\"x_axis\": 0.35588520765304565, \"y_axis\": 0.3081223964691162, \"name\": \"country\", \"original\": \"country\"}, {\"x_axis\": 0.5101485252380371, \"y_axis\": -0.5882915258407593, \"name\": \"judeo\", \"original\": \"judeo\"}, {\"x_axis\": -0.12095552682876587, \"y_axis\": 0.08314835280179977, \"name\": \"scholarship\", \"original\": \"scholarship\"}, {\"x_axis\": -0.3943161368370056, \"y_axis\": 0.66558438539505, \"name\": \"america\", \"original\": \"america\"}, {\"x_axis\": -0.5488882660865784, \"y_axis\": -0.2173151671886444, \"name\": \"wilder\", \"original\": \"wilder\"}, {\"x_axis\": 0.18834897875785828, \"y_axis\": 0.5202546715736389, \"name\": \"solidarity\", \"original\": \"solidarity\"}, {\"x_axis\": 0.23790085315704346, \"y_axis\": 0.24378560483455658, \"name\": \"lobby\", \"original\": \"lobby\"}, {\"x_axis\": 1.5639784336090088, \"y_axis\": -0.014694450423121452, \"name\": \"religion\", \"original\": \"religion\"}, {\"x_axis\": -0.3243902921676636, \"y_axis\": -0.1434638649225235, \"name\": \"timely\", \"original\": \"timely\"}, {\"x_axis\": -0.10264957696199417, \"y_axis\": -0.6832150816917419, \"name\": \"decreed\", \"original\": \"decreed\"}, {\"x_axis\": 0.43755924701690674, \"y_axis\": -0.31994760036468506, \"name\": \"coercion\", \"original\": \"coercion\"}, {\"x_axis\": 0.018930993974208832, \"y_axis\": -0.046086277812719345, \"name\": \"advocates\", \"original\": \"advocates\"}, {\"x_axis\": -0.12463176250457764, \"y_axis\": -0.5863544940948486, \"name\": \"sparked\", \"original\": \"sparked\"}, {\"x_axis\": -0.3023339807987213, \"y_axis\": -0.08719509094953537, \"name\": \"sadval\", \"original\": \"sadval\"}, {\"x_axis\": 0.39472562074661255, \"y_axis\": -0.16173160076141357, \"name\": \"autonomy\", \"original\": \"autonomy\"}, {\"x_axis\": -0.10047037154436111, \"y_axis\": -0.15228109061717987, \"name\": \"indo\", \"original\": \"indo\"}, {\"x_axis\": 0.2676672339439392, \"y_axis\": -0.32852235436439514, \"name\": \"ethnical\", \"original\": \"ethnical\"}, {\"x_axis\": -0.011634939350187778, \"y_axis\": -0.5716143250465393, \"name\": \"trinitarianism\", \"original\": \"trinitarianism\"}, {\"x_axis\": 0.050396211445331573, \"y_axis\": -0.0631248950958252, \"name\": \"consensus\", \"original\": \"consensus\"}, {\"x_axis\": -0.1770293116569519, \"y_axis\": 0.740431547164917, \"name\": \"science\", \"original\": \"science\"}, {\"x_axis\": 0.0023111789487302303, \"y_axis\": -0.35480859875679016, \"name\": \"leftists\", \"original\": \"leftists\"}, {\"x_axis\": -0.40048453211784363, \"y_axis\": 0.018883004784584045, \"name\": \"businessmen\", \"original\": \"businessmen\"}, {\"x_axis\": -0.40786221623420715, \"y_axis\": -0.26731595396995544, \"name\": \"brotherhood\", \"original\": \"brotherhood\"}, {\"x_axis\": 0.052315033972263336, \"y_axis\": -0.5322762131690979, \"name\": \"accorded\", \"original\": \"accorded\"}, {\"x_axis\": 0.7487879991531372, \"y_axis\": -0.02259548008441925, \"name\": \"ethics\", \"original\": \"ethics\"}, {\"x_axis\": -0.22867847979068756, \"y_axis\": -0.44354841113090515, \"name\": \"parades\", \"original\": \"parades\"}, {\"x_axis\": 0.04308626800775528, \"y_axis\": -0.8036034107208252, \"name\": \"assent\", \"original\": \"assent\"}, {\"x_axis\": -0.5117648243904114, \"y_axis\": 0.019825046882033348, \"name\": \"outlook\", \"original\": \"outlook\"}, {\"x_axis\": 0.1000736802816391, \"y_axis\": -0.42994263768196106, \"name\": \"regulating\", \"original\": \"regulating\"}, {\"x_axis\": -0.21541044116020203, \"y_axis\": -0.1668328493833542, \"name\": \"achievement\", \"original\": \"achievement\"}, {\"x_axis\": -0.1398801952600479, \"y_axis\": -0.25266870856285095, \"name\": \"strengthening\", \"original\": \"strengthening\"}, {\"x_axis\": 0.20786891877651215, \"y_axis\": -0.23043598234653473, \"name\": \"survival\", \"original\": \"survival\"}, {\"x_axis\": 0.37944114208221436, \"y_axis\": -0.2174055427312851, \"name\": \"zoroastrians\", \"original\": \"zoroastrians\"}, {\"x_axis\": 0.532522976398468, \"y_axis\": 0.4126633107662201, \"name\": \"partnership\", \"original\": \"partnership\"}, {\"x_axis\": 0.401753693819046, \"y_axis\": 0.25749292969703674, \"name\": \"socialist\", \"original\": \"socialist\"}, {\"x_axis\": -0.07967113703489304, \"y_axis\": -0.6341100335121155, \"name\": \"metaphors\", \"original\": \"metaphors\"}, {\"x_axis\": 0.1336824744939804, \"y_axis\": 0.6213545799255371, \"name\": \"economics\", \"original\": \"economics\"}, {\"x_axis\": -0.2300436645746231, \"y_axis\": -0.5085095167160034, \"name\": \"cowardice\", \"original\": \"cowardice\"}, {\"x_axis\": -0.3901509940624237, \"y_axis\": 0.010658870451152325, \"name\": \"accommodates\", \"original\": \"accommodates\"}, {\"x_axis\": -0.4096914827823639, \"y_axis\": 0.7449007630348206, \"name\": \"industries\", \"original\": \"industries\"}, {\"x_axis\": 0.7159764766693115, \"y_axis\": -0.1519346833229065, \"name\": \"pursuit\", \"original\": \"pursuit\"}, {\"x_axis\": -0.6135117411613464, \"y_axis\": -0.09881103783845901, \"name\": \"honours\", \"original\": \"honours\"}, {\"x_axis\": 0.09464730322360992, \"y_axis\": 0.08765735477209091, \"name\": \"domination\", \"original\": \"domination\"}, {\"x_axis\": 0.20386658608913422, \"y_axis\": -0.20059913396835327, \"name\": \"arising\", \"original\": \"arising\"}, {\"x_axis\": 0.34548601508140564, \"y_axis\": 0.020183825865387917, \"name\": \"socialism\", \"original\": \"socialism\"}, {\"x_axis\": -0.4133550524711609, \"y_axis\": -0.2517678737640381, \"name\": \"forefront\", \"original\": \"forefront\"}]}}, {\"mode\": \"vega-lite\"});\n",
       "</script>"
      ],
      "text/plain": [
       "alt.Chart(...)"
      ]
     },
     "execution_count": 52,
     "metadata": {},
     "output_type": "execute_result"
    }
   ],
   "source": [
    "(emb_w2v\n",
    " .embset_similar(\"society\", n=100, metric=\"cosine\")\n",
    " .transform(Pca(2))\n",
    " .plot_interactive(annot=False))"
   ]
  },
  {
   "cell_type": "markdown",
   "metadata": {},
   "source": [
    "### Exercise\n",
    "\n",
    "Write code to convert the GloVe embeddings from a gensim `KeyedVectors` object to a whatlies `EmbeddingSet`. (Note: you don't need to use the `wv` attribute. Instead, access `glove_embeddings.index2word` directly. That's what the warning message \"use self\" means.)\n",
    "\n",
    "Then, select some neighborhood of words (maybe a larger one than n=100) around a focal word (like \"society\"), transform those vectors with PCA, and plot them. \n"
   ]
  },
  {
   "cell_type": "code",
   "execution_count": 53,
   "metadata": {},
   "outputs": [],
   "source": [
    "# convert glove embeddings to an EmbeddingSet"
   ]
  },
  {
   "cell_type": "code",
   "execution_count": 54,
   "metadata": {},
   "outputs": [],
   "source": [
    "# select, transform, and plot"
   ]
  },
  {
   "cell_type": "markdown",
   "metadata": {},
   "source": [
    "## Wrapping up"
   ]
  },
  {
   "cell_type": "markdown",
   "metadata": {},
   "source": [
    "### Main takeaways\n",
    "\n",
    "- Word embeddings have become one tool in the computational text analysis toolkit.\n",
    "- They've been successfully applied in the social sciences, in cases where the relational meanings of words and concepts are of substantive interest."
   ]
  },
  {
   "cell_type": "markdown",
   "metadata": {},
   "source": [
    "### What to do next\n",
    "\n",
    "- Keep playing around in this notebook, with different words and parameters!\n",
    "- Apply a pretrained model to or train a local model on your own corpus.\n",
    "- Have a look at the code for some of the papers listed below.\n",
    "- Read through my [experimental notebooks](https://ccgilroy.github.io/community-discourse/). I wrote those notebooks for myself, to explore how these methods could be applied to a topic I'm interested in, but you might find them useful.\n",
    "\n",
    "The main additional topic I would have liked to cover in this workshop, given more time, is **document-level comparisons**. There are two interesting methods in gensim, Word Mover's Distance and Doc2Vec, which do pretty different things. I'm happy to discuss those methods during the Q&A. "
   ]
  },
  {
   "cell_type": "markdown",
   "metadata": {},
   "source": [
    "### Further reading\n",
    "\n",
    "I've loosely categorized some relevant papers into three groups. I'd recommend starting with papers in the first category, though there are some interesting methodological ideas in the second and third categories.\n",
    "\n",
    "You'll notice that **time** is the covariate of choice for many of the applied papers. I'm excited to see what other sources of variation researchers can come up with. \n",
    "\n",
    "Social science papers: \n",
    "\n",
    "- Kozlowski et al 2019 (\"Geometry of Culture\") ([GitHub](https://github.com/KnowledgeLab/GeometryofCulture/))\n",
    "- Stoltz and Taylor 2019, Taylor and Stoltz 2020a, Taylor and Stoltz 2020b, Stoltz and Taylor forthcoming (Concept Mover's Distance and extensions) ([GitHub](https://github.com/dustinstoltz/CMDist/))\n",
    "- Jones et al 2019 (gender stereotypes decrease over time) ([GitHub](https://github.com/ruhulsbu/StereotypicalGenderAssociationsInLanguage))\n",
    "- Rheault and Cochrane 2020 (ideology and parliamentary corporas) ([GitHub](https://github.com/lrheault/partyembed))\n",
    "- Rodriguez and Spirling 2020 (methodological comparisons for political science research) ([GitHub](https://github.com/ArthurSpirling/EmbeddingsPaper))\n",
    "- Arseniev-Koehler and Foster 2020 (cultural learning and what it means to be fat) ([GitHub](https://github.com/arsena-k/Word2Vec-bias-extraction))\n",
    "- Nelson 2021 (machine learning and intersectionality) ([GitHub](https://github.com/lknelson/measuring_intersectionality))\n",
    "\n",
    "Social application papers from NLP/CS researchers: \n",
    "\n",
    "- Bamman et al 2014 (embedding decomposition and geographic variation) ([GitHub](https://github.com/dbamman/geoSGLM))\n",
    "- Kulkarni et al 2015 (historical semantic change over time) ([GitHub](https://github.com/viveksck/langchangetrack))\n",
    "- Hamilton et al 2016a, 2016b (histwords - semantic change) ([website](https://nlp.stanford.edu/projects/histwords/))\n",
    "- Garg et al 2017 (stereotypes and semantic change) ([GitHub](https://github.com/nikhgarg/EmbeddingDynamicStereotypes))\n",
    "- Gonen and Goldberg 2019 (\"Lipstick on a pig\" - \"debiasing\" embeddings in terms of gender) ([GitHub](https://github.com/gonenhila/gender_bias_lipstick))\n",
    "- Giulianelli et al 2020 (contextual embeddings for semantic change) ([GitHub](https://github.com/glnmario/cwr4lsc))\n",
    "- Mendelsohn et al 2020 (dehumanization and linguistic change)\n",
    "- Waller and Anderson 2020 (community embeddings)\n",
    "- Soni et al 2021 (language change in abolitionist newspapers) ([GitHub](https://github.com/sandeepsoni/semantic-leadership-network))\n",
    "\n",
    "Fundamental NLP/CS papers:\n",
    "\n",
    "- Mikolov et al 2013 (word2vec) ([gensim tutorial](https://radimrehurek.com/gensim/auto_examples/tutorials/run_word2vec.html))\n",
    "- Pennington et al 2014 (GloVe) ([website](https://nlp.stanford.edu/projects/glove/))\n",
    "- Dai and Le 2015 (paragraph vectors / doc2vec) ([gensim tutorial](https://radimrehurek.com/gensim/auto_examples/tutorials/run_doc2vec_lee.html))\n",
    "- Kusner et al 2015 (Word Mover's Distance) ([gensim tutorial](https://radimrehurek.com/gensim/auto_examples/tutorials/run_wmd.html))\n",
    "- Antoniak and Mimno 2018 (stability of embeddings) ([GitHub](https://github.com/maria-antoniak/word-embedding-stability))\n",
    "- Sia et al 2020 (embeddings as topic models) ([GitHub](https://github.com/adalmia96/Cluster-Analysis))\n",
    "- Warmerdam et al 2020 (whatlies package) ([website](https://rasahq.github.io/whatlies/))"
   ]
  },
  {
   "cell_type": "markdown",
   "metadata": {},
   "source": [
    "## Contact information and acknowledgments\n",
    "\n",
    "Connor Gilroy  \n",
    "email: cgilroy at uw dot edu  \n",
    "twitter: @ccgilroy\n",
    "\n",
    "My thinking on word embeddings is indebted to SICSS-2017, a 2018 Text as Data course with John Wilkerson, many conversations (with Kate Stovel, Jeff Lockhart, Ian Kennedy, Nga Than, and others), and the code and papers listed above.\n",
    "\n",
    "My research is partially supported by several grants, including an NIH NICHD training grant (T32 HD101442-01) to CSDE at the University of Washington and ARO Grant W911NF-19-1-0407."
   ]
  }
 ],
 "metadata": {
  "kernelspec": {
   "display_name": "Python 3",
   "language": "python",
   "name": "python3"
  },
  "language_info": {
   "codemirror_mode": {
    "name": "ipython",
    "version": 3
   },
   "file_extension": ".py",
   "mimetype": "text/x-python",
   "name": "python",
   "nbconvert_exporter": "python",
   "pygments_lexer": "ipython3",
   "version": "3.8.8"
  },
  "toc-autonumbering": false,
  "toc-showcode": false,
  "toc-showmarkdowntxt": false
 },
 "nbformat": 4,
 "nbformat_minor": 4
}
